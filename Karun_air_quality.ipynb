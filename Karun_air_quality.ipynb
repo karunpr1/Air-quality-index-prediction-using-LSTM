{
 "cells": [
  {
   "cell_type": "code",
   "execution_count": 41,
   "metadata": {},
   "outputs": [],
   "source": [
    "#importing the necessary libraries and dependencies\n",
    "import pandas as pd\n",
    "import numpy as np\n",
    "import seaborn as sns;\n",
    "from sklearn import preprocessing\n",
    "from sklearn.metrics import accuracy_score\n",
    "from sklearn.preprocessing import StandardScaler\n",
    "import matplotlib.pyplot as plt\n",
    "import tensorflow as tf\n",
    "from tensorflow import keras\n",
    "from numpy import array\n",
    "from keras.models import Sequential\n",
    "from keras.layers import LSTM\n",
    "from keras.layers import Dense, Dropout\n",
    "from keras import optimizers\n",
    "from sklearn.preprocessing import MinMaxScaler\n",
    "from sklearn.metrics import mean_squared_error\n",
    "import datetime\n"
   ]
  },
  {
   "cell_type": "code",
   "execution_count": 3,
   "metadata": {},
   "outputs": [
    {
     "name": "stdout",
     "output_type": "stream",
     "text": [
      "          No  year  month  day  hour  season  PM_Jingan  PM_US Post  \\\n",
      "0          1  2010      1    1     0       4  58.523347   53.640643   \n",
      "1          2  2010      1    1     1       4  58.523347   53.640643   \n",
      "2          3  2010      1    1     2       4  58.523347   53.640643   \n",
      "3          4  2010      1    1     3       4  58.523347   53.640643   \n",
      "4          5  2010      1    1     4       4  58.523347   53.640643   \n",
      "...      ...   ...    ...  ...   ...     ...        ...         ...   \n",
      "43819  43820  2014     12   31    19       4  72.000000   84.000000   \n",
      "43820  43821  2014     12   31    20       4  70.000000   71.000000   \n",
      "43821  43822  2014     12   31    21       4  53.000000   42.000000   \n",
      "43822  43823  2014     12   31    22       4  38.000000   37.000000   \n",
      "43823  43824  2014     12   31    23       4  25.000000   32.000000   \n",
      "\n",
      "        PM_Xuhui  DEWP   HUMI    PRES  TEMP cbwd    Iws  precipitation  Iprec  \n",
      "0      60.280218  -6.0  59.48  1026.1   1.0   cv    1.0            0.0    0.0  \n",
      "1      60.280218  -6.0  59.48  1025.1   1.0   SE    2.0            0.0    0.0  \n",
      "2      60.280218  -7.0  59.21  1025.1   0.0   SE    4.0            0.0    0.0  \n",
      "3      60.280218  -6.0  63.94  1024.0   0.0   SE    5.0            0.0    0.0  \n",
      "4      60.280218  -6.0  63.94  1023.0   0.0   SE    8.0            0.0    0.0  \n",
      "...          ...   ...    ...     ...   ...  ...    ...            ...    ...  \n",
      "43819  75.000000  -5.0  48.34  1031.0   5.0   NW  107.0            0.0    0.0  \n",
      "43820  75.000000  -6.0  48.04  1031.0   4.0   NE    5.0            0.0    0.0  \n",
      "43821  58.000000  -9.0  38.08  1031.0   4.0   NW    8.0            0.0    0.0  \n",
      "43822  40.000000  -9.0  40.86  1032.0   3.0   NE    5.0            0.0    0.0  \n",
      "43823  32.000000 -12.0  34.56  1033.0   2.0   NW    6.0            0.0    0.0  \n",
      "\n",
      "[43824 rows x 17 columns]\n"
     ]
    },
    {
     "name": "stderr",
     "output_type": "stream",
     "text": [
      "/tmp/ipykernel_7566/1384185906.py:3: FutureWarning: Dropping of nuisance columns in DataFrame reductions (with 'numeric_only=None') is deprecated; in a future version this will raise TypeError.  Select only valid columns before calling the reduction.\n",
      "  df = df.fillna(df.mean())\n"
     ]
    }
   ],
   "source": [
    "# loading the data into the dataframe\n",
    "df = pd.read_csv('ShanghaiPMtrain.csv') \n",
    "df = df.fillna(df.mean())\n",
    "print(df) "
   ]
  },
  {
   "cell_type": "code",
   "execution_count": 141,
   "metadata": {},
   "outputs": [
    {
     "name": "stdout",
     "output_type": "stream",
     "text": [
      "<class 'pandas.core.frame.DataFrame'>\n",
      "RangeIndex: 43824 entries, 0 to 43823\n",
      "Data columns (total 20 columns):\n",
      " #   Column         Non-Null Count  Dtype         \n",
      "---  ------         --------------  -----         \n",
      " 0   No             43824 non-null  int64         \n",
      " 1   year           43824 non-null  int64         \n",
      " 2   month          43824 non-null  int64         \n",
      " 3   day            43824 non-null  int64         \n",
      " 4   hour           43824 non-null  int64         \n",
      " 5   season         43824 non-null  int64         \n",
      " 6   PM_Jingan      43824 non-null  float64       \n",
      " 7   PM_US Post     43824 non-null  float64       \n",
      " 8   PM_Xuhui       43824 non-null  float64       \n",
      " 9   DEWP           43824 non-null  float64       \n",
      " 10  HUMI           43824 non-null  float64       \n",
      " 11  PRES           43824 non-null  float64       \n",
      " 12  TEMP           43824 non-null  float64       \n",
      " 13  cbwd           43812 non-null  object        \n",
      " 14  Iws            43824 non-null  float64       \n",
      " 15  precipitation  43824 non-null  float64       \n",
      " 16  Iprec          43824 non-null  float64       \n",
      " 17  myDt           43824 non-null  datetime64[ns]\n",
      " 18  date           43824 non-null  datetime64[ns]\n",
      " 19  PM_average     43824 non-null  float64       \n",
      "dtypes: datetime64[ns](2), float64(11), int64(6), object(1)\n",
      "memory usage: 6.7+ MB\n"
     ]
    }
   ],
   "source": [
    "# viewing info about the columns\n",
    "df.info();"
   ]
  },
  {
   "cell_type": "code",
   "execution_count": 142,
   "metadata": {},
   "outputs": [
    {
     "data": {
      "text/html": [
       "<div>\n",
       "<style scoped>\n",
       "    .dataframe tbody tr th:only-of-type {\n",
       "        vertical-align: middle;\n",
       "    }\n",
       "\n",
       "    .dataframe tbody tr th {\n",
       "        vertical-align: top;\n",
       "    }\n",
       "\n",
       "    .dataframe thead th {\n",
       "        text-align: right;\n",
       "    }\n",
       "</style>\n",
       "<table border=\"1\" class=\"dataframe\">\n",
       "  <thead>\n",
       "    <tr style=\"text-align: right;\">\n",
       "      <th></th>\n",
       "      <th>No</th>\n",
       "      <th>year</th>\n",
       "      <th>month</th>\n",
       "      <th>day</th>\n",
       "      <th>hour</th>\n",
       "      <th>season</th>\n",
       "      <th>PM_Jingan</th>\n",
       "      <th>PM_US Post</th>\n",
       "      <th>PM_Xuhui</th>\n",
       "      <th>DEWP</th>\n",
       "      <th>HUMI</th>\n",
       "      <th>PRES</th>\n",
       "      <th>TEMP</th>\n",
       "      <th>cbwd</th>\n",
       "      <th>Iws</th>\n",
       "      <th>precipitation</th>\n",
       "      <th>Iprec</th>\n",
       "      <th>myDt</th>\n",
       "      <th>date</th>\n",
       "      <th>PM_average</th>\n",
       "    </tr>\n",
       "  </thead>\n",
       "  <tbody>\n",
       "    <tr>\n",
       "      <th>0</th>\n",
       "      <td>1</td>\n",
       "      <td>2010</td>\n",
       "      <td>1</td>\n",
       "      <td>1</td>\n",
       "      <td>0</td>\n",
       "      <td>4</td>\n",
       "      <td>58.523347</td>\n",
       "      <td>53.640643</td>\n",
       "      <td>60.280218</td>\n",
       "      <td>-6.0</td>\n",
       "      <td>59.48</td>\n",
       "      <td>1026.1</td>\n",
       "      <td>1.0</td>\n",
       "      <td>cv</td>\n",
       "      <td>1.0</td>\n",
       "      <td>0.0</td>\n",
       "      <td>0.0</td>\n",
       "      <td>2010-01-01</td>\n",
       "      <td>2010-01-01</td>\n",
       "      <td>57.481403</td>\n",
       "    </tr>\n",
       "    <tr>\n",
       "      <th>1</th>\n",
       "      <td>2</td>\n",
       "      <td>2010</td>\n",
       "      <td>1</td>\n",
       "      <td>1</td>\n",
       "      <td>1</td>\n",
       "      <td>4</td>\n",
       "      <td>58.523347</td>\n",
       "      <td>53.640643</td>\n",
       "      <td>60.280218</td>\n",
       "      <td>-6.0</td>\n",
       "      <td>59.48</td>\n",
       "      <td>1025.1</td>\n",
       "      <td>1.0</td>\n",
       "      <td>SE</td>\n",
       "      <td>2.0</td>\n",
       "      <td>0.0</td>\n",
       "      <td>0.0</td>\n",
       "      <td>2010-01-01</td>\n",
       "      <td>2010-01-01</td>\n",
       "      <td>57.481403</td>\n",
       "    </tr>\n",
       "    <tr>\n",
       "      <th>2</th>\n",
       "      <td>3</td>\n",
       "      <td>2010</td>\n",
       "      <td>1</td>\n",
       "      <td>1</td>\n",
       "      <td>2</td>\n",
       "      <td>4</td>\n",
       "      <td>58.523347</td>\n",
       "      <td>53.640643</td>\n",
       "      <td>60.280218</td>\n",
       "      <td>-7.0</td>\n",
       "      <td>59.21</td>\n",
       "      <td>1025.1</td>\n",
       "      <td>0.0</td>\n",
       "      <td>SE</td>\n",
       "      <td>4.0</td>\n",
       "      <td>0.0</td>\n",
       "      <td>0.0</td>\n",
       "      <td>2010-01-01</td>\n",
       "      <td>2010-01-01</td>\n",
       "      <td>57.481403</td>\n",
       "    </tr>\n",
       "    <tr>\n",
       "      <th>3</th>\n",
       "      <td>4</td>\n",
       "      <td>2010</td>\n",
       "      <td>1</td>\n",
       "      <td>1</td>\n",
       "      <td>3</td>\n",
       "      <td>4</td>\n",
       "      <td>58.523347</td>\n",
       "      <td>53.640643</td>\n",
       "      <td>60.280218</td>\n",
       "      <td>-6.0</td>\n",
       "      <td>63.94</td>\n",
       "      <td>1024.0</td>\n",
       "      <td>0.0</td>\n",
       "      <td>SE</td>\n",
       "      <td>5.0</td>\n",
       "      <td>0.0</td>\n",
       "      <td>0.0</td>\n",
       "      <td>2010-01-01</td>\n",
       "      <td>2010-01-01</td>\n",
       "      <td>57.481403</td>\n",
       "    </tr>\n",
       "    <tr>\n",
       "      <th>4</th>\n",
       "      <td>5</td>\n",
       "      <td>2010</td>\n",
       "      <td>1</td>\n",
       "      <td>1</td>\n",
       "      <td>4</td>\n",
       "      <td>4</td>\n",
       "      <td>58.523347</td>\n",
       "      <td>53.640643</td>\n",
       "      <td>60.280218</td>\n",
       "      <td>-6.0</td>\n",
       "      <td>63.94</td>\n",
       "      <td>1023.0</td>\n",
       "      <td>0.0</td>\n",
       "      <td>SE</td>\n",
       "      <td>8.0</td>\n",
       "      <td>0.0</td>\n",
       "      <td>0.0</td>\n",
       "      <td>2010-01-01</td>\n",
       "      <td>2010-01-01</td>\n",
       "      <td>57.481403</td>\n",
       "    </tr>\n",
       "  </tbody>\n",
       "</table>\n",
       "</div>"
      ],
      "text/plain": [
       "   No  year  month  day  hour  season  PM_Jingan  PM_US Post   PM_Xuhui  DEWP  \\\n",
       "0   1  2010      1    1     0       4  58.523347   53.640643  60.280218  -6.0   \n",
       "1   2  2010      1    1     1       4  58.523347   53.640643  60.280218  -6.0   \n",
       "2   3  2010      1    1     2       4  58.523347   53.640643  60.280218  -7.0   \n",
       "3   4  2010      1    1     3       4  58.523347   53.640643  60.280218  -6.0   \n",
       "4   5  2010      1    1     4       4  58.523347   53.640643  60.280218  -6.0   \n",
       "\n",
       "    HUMI    PRES  TEMP cbwd  Iws  precipitation  Iprec       myDt       date  \\\n",
       "0  59.48  1026.1   1.0   cv  1.0            0.0    0.0 2010-01-01 2010-01-01   \n",
       "1  59.48  1025.1   1.0   SE  2.0            0.0    0.0 2010-01-01 2010-01-01   \n",
       "2  59.21  1025.1   0.0   SE  4.0            0.0    0.0 2010-01-01 2010-01-01   \n",
       "3  63.94  1024.0   0.0   SE  5.0            0.0    0.0 2010-01-01 2010-01-01   \n",
       "4  63.94  1023.0   0.0   SE  8.0            0.0    0.0 2010-01-01 2010-01-01   \n",
       "\n",
       "   PM_average  \n",
       "0   57.481403  \n",
       "1   57.481403  \n",
       "2   57.481403  \n",
       "3   57.481403  \n",
       "4   57.481403  "
      ]
     },
     "execution_count": 142,
     "metadata": {},
     "output_type": "execute_result"
    }
   ],
   "source": [
    "#viewing few rows from the top\n",
    "df.head()"
   ]
  },
  {
   "cell_type": "code",
   "execution_count": 143,
   "metadata": {},
   "outputs": [],
   "source": [
    "df['PM_average'] = df[['PM_Jingan','PM_US Post', 'PM_Xuhui']].mean(axis=1)"
   ]
  },
  {
   "cell_type": "code",
   "execution_count": 144,
   "metadata": {},
   "outputs": [
    {
     "data": {
      "text/html": [
       "<div>\n",
       "<style scoped>\n",
       "    .dataframe tbody tr th:only-of-type {\n",
       "        vertical-align: middle;\n",
       "    }\n",
       "\n",
       "    .dataframe tbody tr th {\n",
       "        vertical-align: top;\n",
       "    }\n",
       "\n",
       "    .dataframe thead th {\n",
       "        text-align: right;\n",
       "    }\n",
       "</style>\n",
       "<table border=\"1\" class=\"dataframe\">\n",
       "  <thead>\n",
       "    <tr style=\"text-align: right;\">\n",
       "      <th></th>\n",
       "      <th>No</th>\n",
       "      <th>year</th>\n",
       "      <th>month</th>\n",
       "      <th>day</th>\n",
       "      <th>hour</th>\n",
       "      <th>season</th>\n",
       "      <th>PM_Jingan</th>\n",
       "      <th>PM_US Post</th>\n",
       "      <th>PM_Xuhui</th>\n",
       "      <th>DEWP</th>\n",
       "      <th>HUMI</th>\n",
       "      <th>PRES</th>\n",
       "      <th>TEMP</th>\n",
       "      <th>cbwd</th>\n",
       "      <th>Iws</th>\n",
       "      <th>precipitation</th>\n",
       "      <th>Iprec</th>\n",
       "      <th>myDt</th>\n",
       "      <th>date</th>\n",
       "      <th>PM_average</th>\n",
       "    </tr>\n",
       "  </thead>\n",
       "  <tbody>\n",
       "    <tr>\n",
       "      <th>0</th>\n",
       "      <td>1</td>\n",
       "      <td>2010</td>\n",
       "      <td>1</td>\n",
       "      <td>1</td>\n",
       "      <td>0</td>\n",
       "      <td>4</td>\n",
       "      <td>58.523347</td>\n",
       "      <td>53.640643</td>\n",
       "      <td>60.280218</td>\n",
       "      <td>-6.0</td>\n",
       "      <td>59.48</td>\n",
       "      <td>1026.1</td>\n",
       "      <td>1.0</td>\n",
       "      <td>cv</td>\n",
       "      <td>1.0</td>\n",
       "      <td>0.0</td>\n",
       "      <td>0.0</td>\n",
       "      <td>2010-01-01</td>\n",
       "      <td>2010-1-1</td>\n",
       "      <td>57.481403</td>\n",
       "    </tr>\n",
       "    <tr>\n",
       "      <th>1</th>\n",
       "      <td>2</td>\n",
       "      <td>2010</td>\n",
       "      <td>1</td>\n",
       "      <td>1</td>\n",
       "      <td>1</td>\n",
       "      <td>4</td>\n",
       "      <td>58.523347</td>\n",
       "      <td>53.640643</td>\n",
       "      <td>60.280218</td>\n",
       "      <td>-6.0</td>\n",
       "      <td>59.48</td>\n",
       "      <td>1025.1</td>\n",
       "      <td>1.0</td>\n",
       "      <td>SE</td>\n",
       "      <td>2.0</td>\n",
       "      <td>0.0</td>\n",
       "      <td>0.0</td>\n",
       "      <td>2010-01-01</td>\n",
       "      <td>2010-1-1</td>\n",
       "      <td>57.481403</td>\n",
       "    </tr>\n",
       "    <tr>\n",
       "      <th>2</th>\n",
       "      <td>3</td>\n",
       "      <td>2010</td>\n",
       "      <td>1</td>\n",
       "      <td>1</td>\n",
       "      <td>2</td>\n",
       "      <td>4</td>\n",
       "      <td>58.523347</td>\n",
       "      <td>53.640643</td>\n",
       "      <td>60.280218</td>\n",
       "      <td>-7.0</td>\n",
       "      <td>59.21</td>\n",
       "      <td>1025.1</td>\n",
       "      <td>0.0</td>\n",
       "      <td>SE</td>\n",
       "      <td>4.0</td>\n",
       "      <td>0.0</td>\n",
       "      <td>0.0</td>\n",
       "      <td>2010-01-01</td>\n",
       "      <td>2010-1-1</td>\n",
       "      <td>57.481403</td>\n",
       "    </tr>\n",
       "    <tr>\n",
       "      <th>3</th>\n",
       "      <td>4</td>\n",
       "      <td>2010</td>\n",
       "      <td>1</td>\n",
       "      <td>1</td>\n",
       "      <td>3</td>\n",
       "      <td>4</td>\n",
       "      <td>58.523347</td>\n",
       "      <td>53.640643</td>\n",
       "      <td>60.280218</td>\n",
       "      <td>-6.0</td>\n",
       "      <td>63.94</td>\n",
       "      <td>1024.0</td>\n",
       "      <td>0.0</td>\n",
       "      <td>SE</td>\n",
       "      <td>5.0</td>\n",
       "      <td>0.0</td>\n",
       "      <td>0.0</td>\n",
       "      <td>2010-01-01</td>\n",
       "      <td>2010-1-1</td>\n",
       "      <td>57.481403</td>\n",
       "    </tr>\n",
       "    <tr>\n",
       "      <th>4</th>\n",
       "      <td>5</td>\n",
       "      <td>2010</td>\n",
       "      <td>1</td>\n",
       "      <td>1</td>\n",
       "      <td>4</td>\n",
       "      <td>4</td>\n",
       "      <td>58.523347</td>\n",
       "      <td>53.640643</td>\n",
       "      <td>60.280218</td>\n",
       "      <td>-6.0</td>\n",
       "      <td>63.94</td>\n",
       "      <td>1023.0</td>\n",
       "      <td>0.0</td>\n",
       "      <td>SE</td>\n",
       "      <td>8.0</td>\n",
       "      <td>0.0</td>\n",
       "      <td>0.0</td>\n",
       "      <td>2010-01-01</td>\n",
       "      <td>2010-1-1</td>\n",
       "      <td>57.481403</td>\n",
       "    </tr>\n",
       "  </tbody>\n",
       "</table>\n",
       "</div>"
      ],
      "text/plain": [
       "   No  year  month  day  hour  season  PM_Jingan  PM_US Post   PM_Xuhui  DEWP  \\\n",
       "0   1  2010      1    1     0       4  58.523347   53.640643  60.280218  -6.0   \n",
       "1   2  2010      1    1     1       4  58.523347   53.640643  60.280218  -6.0   \n",
       "2   3  2010      1    1     2       4  58.523347   53.640643  60.280218  -7.0   \n",
       "3   4  2010      1    1     3       4  58.523347   53.640643  60.280218  -6.0   \n",
       "4   5  2010      1    1     4       4  58.523347   53.640643  60.280218  -6.0   \n",
       "\n",
       "    HUMI    PRES  TEMP cbwd  Iws  precipitation  Iprec       myDt      date  \\\n",
       "0  59.48  1026.1   1.0   cv  1.0            0.0    0.0 2010-01-01  2010-1-1   \n",
       "1  59.48  1025.1   1.0   SE  2.0            0.0    0.0 2010-01-01  2010-1-1   \n",
       "2  59.21  1025.1   0.0   SE  4.0            0.0    0.0 2010-01-01  2010-1-1   \n",
       "3  63.94  1024.0   0.0   SE  5.0            0.0    0.0 2010-01-01  2010-1-1   \n",
       "4  63.94  1023.0   0.0   SE  8.0            0.0    0.0 2010-01-01  2010-1-1   \n",
       "\n",
       "   PM_average  \n",
       "0   57.481403  \n",
       "1   57.481403  \n",
       "2   57.481403  \n",
       "3   57.481403  \n",
       "4   57.481403  "
      ]
     },
     "execution_count": 144,
     "metadata": {},
     "output_type": "execute_result"
    }
   ],
   "source": [
    "cols=[\"year\",\"month\",\"day\"]\n",
    "df['date'] = df[cols].apply(lambda x: '-'.join(x.values.astype(str)), axis=\"columns\")\n",
    "df.head()"
   ]
  },
  {
   "cell_type": "code",
   "execution_count": 145,
   "metadata": {},
   "outputs": [
    {
     "data": {
      "text/plain": [
       "0       2010-01-01\n",
       "1       2010-01-01\n",
       "2       2010-01-01\n",
       "3       2010-01-01\n",
       "4       2010-01-01\n",
       "           ...    \n",
       "43819   2014-12-31\n",
       "43820   2014-12-31\n",
       "43821   2014-12-31\n",
       "43822   2014-12-31\n",
       "43823   2014-12-31\n",
       "Name: date, Length: 43824, dtype: datetime64[ns]"
      ]
     },
     "execution_count": 145,
     "metadata": {},
     "output_type": "execute_result"
    }
   ],
   "source": [
    "df['date']=pd.to_datetime(df[['year','month','day']])\n",
    "df.date"
   ]
  },
  {
   "cell_type": "code",
   "execution_count": 146,
   "metadata": {},
   "outputs": [
    {
     "name": "stdout",
     "output_type": "stream",
     "text": [
      "0       2010-01-01\n",
      "1       2010-01-01\n",
      "2       2010-01-01\n",
      "3       2010-01-01\n",
      "4       2010-01-01\n",
      "           ...    \n",
      "43819   2014-12-31\n",
      "43820   2014-12-31\n",
      "43821   2014-12-31\n",
      "43822   2014-12-31\n",
      "43823   2014-12-31\n",
      "Name: date, Length: 43824, dtype: datetime64[ns]\n"
     ]
    }
   ],
   "source": [
    "\n",
    "train_dates = pd.to_datetime(df['date'])\n",
    "print(train_dates)"
   ]
  },
  {
   "cell_type": "code",
   "execution_count": 148,
   "metadata": {},
   "outputs": [
    {
     "name": "stdout",
     "output_type": "stream",
     "text": [
      "['PM_Jingan', 'PM_US Post', 'PM_Xuhui']\n"
     ]
    }
   ],
   "source": [
    "cols = list(df)[6:9]\n",
    "print(cols)"
   ]
  },
  {
   "cell_type": "code",
   "execution_count": 149,
   "metadata": {},
   "outputs": [
    {
     "name": "stdout",
     "output_type": "stream",
     "text": [
      "       PM_Jingan  PM_US Post   PM_Xuhui\n",
      "0      58.523347   53.640643  60.280218\n",
      "1      58.523347   53.640643  60.280218\n",
      "2      58.523347   53.640643  60.280218\n",
      "3      58.523347   53.640643  60.280218\n",
      "4      58.523347   53.640643  60.280218\n",
      "...          ...         ...        ...\n",
      "43819  72.000000   84.000000  75.000000\n",
      "43820  70.000000   71.000000  75.000000\n",
      "43821  53.000000   42.000000  58.000000\n",
      "43822  38.000000   37.000000  40.000000\n",
      "43823  25.000000   32.000000  32.000000\n",
      "\n",
      "[43824 rows x 3 columns]\n"
     ]
    }
   ],
   "source": [
    "df_for_training = df[cols].astype(float)\n",
    "print(df_for_training)"
   ]
  },
  {
   "cell_type": "code",
   "execution_count": 150,
   "metadata": {},
   "outputs": [],
   "source": [
    "scalar = StandardScaler()\n",
    "scalar = scalar.fit(df_for_training)\n",
    "df_for_training_scaled = scalar.transform(df_for_training)"
   ]
  },
  {
   "cell_type": "code",
   "execution_count": 151,
   "metadata": {},
   "outputs": [],
   "source": [
    "#Meat of the problem \n",
    "trainX = []\n",
    "trainY = []\n",
    "\n",
    "n_future = 1 #want to predict for No. of days in the future\n",
    "n_past = 14 #want to predict using the No. of days in the past \n",
    "\n",
    "for i in range (n_past, len(df_for_training_scaled) - n_future +1):\n",
    "    trainX.append(df_for_training_scaled[i - n_past:i, 0:df_for_training.shape[1]])\n",
    "    trainY.append(df_for_training_scaled[i + n_future - 1:i + n_future, 0])\n"
   ]
  },
  {
   "cell_type": "code",
   "execution_count": 152,
   "metadata": {},
   "outputs": [],
   "source": [
    "trainX , trainY = np.array(trainX), np.array(trainY)"
   ]
  },
  {
   "cell_type": "code",
   "execution_count": 153,
   "metadata": {},
   "outputs": [
    {
     "name": "stdout",
     "output_type": "stream",
     "text": [
      "trainX Shape>> (43810, 14, 3)\n",
      "trainY Shape>> (43810, 1)\n"
     ]
    }
   ],
   "source": [
    "print('trainX Shape>>',trainX.shape)\n",
    "print('trainY Shape>>',trainY.shape)"
   ]
  },
  {
   "cell_type": "code",
   "execution_count": 154,
   "metadata": {},
   "outputs": [
    {
     "name": "stdout",
     "output_type": "stream",
     "text": [
      "Model: \"sequential_2\"\n",
      "_________________________________________________________________\n",
      " Layer (type)                Output Shape              Param #   \n",
      "=================================================================\n",
      " lstm_4 (LSTM)               (None, 14, 64)            17408     \n",
      "                                                                 \n",
      " lstm_5 (LSTM)               (None, 32)                12416     \n",
      "                                                                 \n",
      " dropout_1 (Dropout)         (None, 32)                0         \n",
      "                                                                 \n",
      " dense_1 (Dense)             (None, 1)                 33        \n",
      "                                                                 \n",
      "=================================================================\n",
      "Total params: 29,857\n",
      "Trainable params: 29,857\n",
      "Non-trainable params: 0\n",
      "_________________________________________________________________\n"
     ]
    }
   ],
   "source": [
    "model = Sequential()\n",
    "model.add(LSTM(64, activation='relu', input_shape = (trainX.shape[1],trainX.shape[2]), return_sequences=True))\n",
    "model.add(LSTM(32, activation='relu', return_sequences=False))\n",
    "model.add(Dropout(0.2))\n",
    "model.add(Dense(trainY.shape[1]))\n",
    "\n",
    "model.compile(optimizer='adam', loss='mse')\n",
    "model.summary()"
   ]
  },
  {
   "cell_type": "code",
   "execution_count": 155,
   "metadata": {},
   "outputs": [
    {
     "name": "stdout",
     "output_type": "stream",
     "text": [
      "Epoch 1/10\n",
      "2465/2465 [==============================] - 14s 5ms/step - loss: 0.2921 - val_loss: 0.1957\n",
      "Epoch 2/10\n",
      "2465/2465 [==============================] - 12s 5ms/step - loss: 0.2055 - val_loss: 0.2160\n",
      "Epoch 3/10\n",
      "2465/2465 [==============================] - 13s 5ms/step - loss: 0.1574 - val_loss: 0.2046\n",
      "Epoch 4/10\n",
      "2465/2465 [==============================] - 13s 5ms/step - loss: 0.1381 - val_loss: 0.1722\n",
      "Epoch 5/10\n",
      "2465/2465 [==============================] - 12s 5ms/step - loss: 0.1289 - val_loss: 0.1588\n",
      "Epoch 6/10\n",
      "2465/2465 [==============================] - 12s 5ms/step - loss: 0.1331 - val_loss: 0.1682\n",
      "Epoch 7/10\n",
      "2465/2465 [==============================] - 12s 5ms/step - loss: 0.1352 - val_loss: 0.1536\n",
      "Epoch 8/10\n",
      "2465/2465 [==============================] - 12s 5ms/step - loss: 0.1241 - val_loss: 0.1589\n",
      "Epoch 9/10\n",
      "2465/2465 [==============================] - 12s 5ms/step - loss: 0.1237 - val_loss: 0.1644\n",
      "Epoch 10/10\n",
      "2465/2465 [==============================] - 12s 5ms/step - loss: 0.1321 - val_loss: 0.1487\n"
     ]
    }
   ],
   "source": [
    "history = model.fit(trainX, trainY, epochs=10, batch_size=16, validation_split=0.1, verbose=1)"
   ]
  },
  {
   "cell_type": "code",
   "execution_count": 156,
   "metadata": {},
   "outputs": [
    {
     "data": {
      "image/png": "[encoded data removed]",
      "text/plain": [
       "<Figure size 640x480 with 1 Axes>"
      ]
     },
     "metadata": {},
     "output_type": "display_data"
    }
   ],
   "source": [
    "# summarize history for loss\n",
    "plt.plot(history.history['loss'])\n",
    "plt.plot(history.history['val_loss'])\n",
    "plt.title('model loss')\n",
    "plt.ylabel('loss')\n",
    "plt.xlabel('epoch')\n",
    "plt.legend(['train', 'test'], loc='upper left')\n",
    "plt.show()"
   ]
  },
  {
   "cell_type": "code",
   "execution_count": 168,
   "metadata": {},
   "outputs": [],
   "source": [
    "n_future = 90\n",
    "forecast_period_dates = pd.date_range(list(train_dates)[-1], periods=n_future, freq='1d').tolist()\n",
    "\n"
   ]
  },
  {
   "cell_type": "code",
   "execution_count": 169,
   "metadata": {},
   "outputs": [
    {
     "name": "stdout",
     "output_type": "stream",
     "text": [
      "3/3 [==============================] - 0s 2ms/step\n"
     ]
    }
   ],
   "source": [
    "forecast = model.predict(trainX[-n_future:])"
   ]
  },
  {
   "cell_type": "code",
   "execution_count": 170,
   "metadata": {},
   "outputs": [
    {
     "data": {
      "text/plain": [
       "(90, 1)"
      ]
     },
     "execution_count": 170,
     "metadata": {},
     "output_type": "execute_result"
    }
   ],
   "source": [
    "forecast.shape"
   ]
  },
  {
   "cell_type": "code",
   "execution_count": 171,
   "metadata": {},
   "outputs": [],
   "source": [
    "forecast_copies = np.repeat(forecast, df_for_training.shape[1], axis = 1) #not a good way of doing this need a better idea\n",
    "y_pred_future = scalar.inverse_transform(forecast_copies)[:,0]"
   ]
  },
  {
   "cell_type": "code",
   "execution_count": 172,
   "metadata": {},
   "outputs": [
    {
     "name": "stdout",
     "output_type": "stream",
     "text": [
      "         date      PM2.5\n",
      "0  2014-12-31  29.150646\n",
      "1  2015-01-01  35.165562\n",
      "2  2015-01-02  37.468533\n",
      "3  2015-01-03  43.750744\n",
      "4  2015-01-04  47.155079\n",
      "..        ...        ...\n",
      "85 2015-03-26  65.511711\n",
      "86 2015-03-27  76.954849\n",
      "87 2015-03-28  66.910278\n",
      "88 2015-03-29  43.961670\n",
      "89 2015-03-30  37.540089\n",
      "\n",
      "[90 rows x 2 columns]\n"
     ]
    }
   ],
   "source": [
    "#Convert Timestamp to date\n",
    "forecast_dates = []\n",
    "for time_i in forecast_period_dates:\n",
    "    forecast_dates.append(time_i.date())\n",
    "\n",
    "df_forecast = pd.DataFrame({'date':np.array(forecast_dates), 'PM2.5':y_pred_future})\n",
    "df_forecast['date']= pd.to_datetime(df_forecast['date'])\n",
    "print(df_forecast)"
   ]
  },
  {
   "cell_type": "code",
   "execution_count": 173,
   "metadata": {},
   "outputs": [
    {
     "name": "stderr",
     "output_type": "stream",
     "text": [
      "/tmp/ipykernel_7566/186051022.py:2: SettingWithCopyWarning: \n",
      "A value is trying to be set on a copy of a slice from a DataFrame.\n",
      "Try using .loc[row_indexer,col_indexer] = value instead\n",
      "\n",
      "See the caveats in the documentation: https://pandas.pydata.org/pandas-docs/stable/user_guide/indexing.html#returning-a-view-versus-a-copy\n",
      "  original['date']= pd.to_datetime(original['date'])\n"
     ]
    }
   ],
   "source": [
    "original = df[['date', 'PM_Jingan']]\n",
    "original['date']= pd.to_datetime(original['date'])\n",
    "original = original.loc[original['date'] >= '2013-12-31']"
   ]
  },
  {
   "cell_type": "code",
   "execution_count": 174,
   "metadata": {},
   "outputs": [
    {
     "name": "stderr",
     "output_type": "stream",
     "text": [
      "/home/karun/anaconda3/lib/python3.9/site-packages/seaborn/_decorators.py:36: FutureWarning: Pass the following variables as keyword args: x, y. From version 0.12, the only valid positional argument will be `data`, and passing other arguments without an explicit keyword will result in an error or misinterpretation.\n",
      "  warnings.warn(\n",
      "/home/karun/anaconda3/lib/python3.9/site-packages/seaborn/_decorators.py:36: FutureWarning: Pass the following variables as keyword args: x, y. From version 0.12, the only valid positional argument will be `data`, and passing other arguments without an explicit keyword will result in an error or misinterpretation.\n",
      "  warnings.warn(\n"
     ]
    },
    {
     "data": {
      "text/plain": [
       "<AxesSubplot:xlabel='date', ylabel='PM_Jingan'>"
      ]
     },
     "execution_count": 174,
     "metadata": {},
     "output_type": "execute_result"
    },
    {
     "data": {
      "image/png": "[encoded data removed]",
      "text/plain": [
       "<Figure size 640x480 with 1 Axes>"
      ]
     },
     "metadata": {},
     "output_type": "display_data"
    }
   ],
   "source": [
    "sns.lineplot(original['date'], original['PM_Jingan'])\n",
    "sns.lineplot(df_forecast['date'], df_forecast['PM2.5'])"
   ]
  },
  {
   "cell_type": "code",
   "execution_count": null,
   "metadata": {},
   "outputs": [],
   "source": []
  }
 ],
 "metadata": {
  "kernelspec": {
   "display_name": "base",
   "language": "python",
   "name": "python3"
  },
  "language_info": {
   "codemirror_mode": {
    "name": "ipython",
    "version": 3
   },
   "file_extension": ".py",
   "mimetype": "text/x-python",
   "name": "python",
   "nbconvert_exporter": "python",
   "pygments_lexer": "ipython3",
   "version": "3.9.13"
  },
  "orig_nbformat": 4,
  "vscode": {
   "interpreter": {
    "hash": "69732ec73f71eb911b4a7839d37f36e6f254ac22aebad37485cde822650725d3"
   }
  }
 },
 "nbformat": 4,
 "nbformat_minor": 2
}
